{
 "cells": [
  {
   "cell_type": "code",
   "execution_count": 1,
   "id": "16041f09-84e0-42fb-a31e-88ae5f0a324c",
   "metadata": {},
   "outputs": [],
   "source": [
    "import pandas as pd\n",
    "import os\n",
    "import cv2\n",
    "from matplotlib import pyplot as plt\n",
    "from sklearn.model_selection import train_test_split\n",
    "import numpy as np"
   ]
  },
  {
   "cell_type": "code",
   "execution_count": 2,
   "id": "63eb03d3-3df3-4904-991c-f56763583f6e",
   "metadata": {},
   "outputs": [],
   "source": [
    "data = pd.read_csv('./data/metadata.csv', index_col=None)"
   ]
  },
  {
   "cell_type": "code",
   "execution_count": 3,
   "id": "0563ce59-91de-4693-b1ee-a40f9f1c16f3",
   "metadata": {},
   "outputs": [],
   "source": [
    "fundus_subset = data[(data['fundus'].notnull()) & (data['fundus'] != -1) & (data['types'] != -1)]\n",
    "fundus_subset = fundus_subset[['types', 'fundus', 'names']]\n",
    "\n",
    "fundus_subset['combined'] = fundus_subset['names'] + '.png'\n",
    "\n",
    "fundus_subset['fundus'] = fundus_subset['fundus'].astype(str)\n",
    "\n",
    "fundus_subset['types'] = fundus_subset['types'].astype(int)"
   ]
  },
  {
   "cell_type": "code",
   "execution_count": 4,
   "id": "24ef5b07-fa13-4e64-a51b-8ebaca3b93e2",
   "metadata": {},
   "outputs": [
    {
     "data": {
      "text/html": [
       "<div>\n",
       "<style scoped>\n",
       "    .dataframe tbody tr th:only-of-type {\n",
       "        vertical-align: middle;\n",
       "    }\n",
       "\n",
       "    .dataframe tbody tr th {\n",
       "        vertical-align: top;\n",
       "    }\n",
       "\n",
       "    .dataframe thead th {\n",
       "        text-align: right;\n",
       "    }\n",
       "</style>\n",
       "<table border=\"1\" class=\"dataframe\">\n",
       "  <thead>\n",
       "    <tr style=\"text-align: right;\">\n",
       "      <th></th>\n",
       "      <th>types</th>\n",
       "      <th>fundus</th>\n",
       "      <th>names</th>\n",
       "      <th>combined</th>\n",
       "    </tr>\n",
       "  </thead>\n",
       "  <tbody>\n",
       "    <tr>\n",
       "      <th>0</th>\n",
       "      <td>0</td>\n",
       "      <td>/full-fundus/OIA-ODIR-TEST-OFFLINE-1.png</td>\n",
       "      <td>OIA-ODIR-TEST-OFFLINE-1</td>\n",
       "      <td>OIA-ODIR-TEST-OFFLINE-1.png</td>\n",
       "    </tr>\n",
       "    <tr>\n",
       "      <th>1</th>\n",
       "      <td>0</td>\n",
       "      <td>/full-fundus/OIA-ODIR-TEST-OFFLINE-2.png</td>\n",
       "      <td>OIA-ODIR-TEST-OFFLINE-2</td>\n",
       "      <td>OIA-ODIR-TEST-OFFLINE-2.png</td>\n",
       "    </tr>\n",
       "    <tr>\n",
       "      <th>2</th>\n",
       "      <td>0</td>\n",
       "      <td>/full-fundus/OIA-ODIR-TEST-OFFLINE-4.png</td>\n",
       "      <td>OIA-ODIR-TEST-OFFLINE-4</td>\n",
       "      <td>OIA-ODIR-TEST-OFFLINE-4.png</td>\n",
       "    </tr>\n",
       "    <tr>\n",
       "      <th>3</th>\n",
       "      <td>0</td>\n",
       "      <td>/full-fundus/OIA-ODIR-TEST-OFFLINE-5.png</td>\n",
       "      <td>OIA-ODIR-TEST-OFFLINE-5</td>\n",
       "      <td>OIA-ODIR-TEST-OFFLINE-5.png</td>\n",
       "    </tr>\n",
       "    <tr>\n",
       "      <th>4</th>\n",
       "      <td>0</td>\n",
       "      <td>/full-fundus/OIA-ODIR-TEST-OFFLINE-6.png</td>\n",
       "      <td>OIA-ODIR-TEST-OFFLINE-6</td>\n",
       "      <td>OIA-ODIR-TEST-OFFLINE-6.png</td>\n",
       "    </tr>\n",
       "  </tbody>\n",
       "</table>\n",
       "</div>"
      ],
      "text/plain": [
       "   types                                    fundus                    names  \\\n",
       "0      0  /full-fundus/OIA-ODIR-TEST-OFFLINE-1.png  OIA-ODIR-TEST-OFFLINE-1   \n",
       "1      0  /full-fundus/OIA-ODIR-TEST-OFFLINE-2.png  OIA-ODIR-TEST-OFFLINE-2   \n",
       "2      0  /full-fundus/OIA-ODIR-TEST-OFFLINE-4.png  OIA-ODIR-TEST-OFFLINE-4   \n",
       "3      0  /full-fundus/OIA-ODIR-TEST-OFFLINE-5.png  OIA-ODIR-TEST-OFFLINE-5   \n",
       "4      0  /full-fundus/OIA-ODIR-TEST-OFFLINE-6.png  OIA-ODIR-TEST-OFFLINE-6   \n",
       "\n",
       "                      combined  \n",
       "0  OIA-ODIR-TEST-OFFLINE-1.png  \n",
       "1  OIA-ODIR-TEST-OFFLINE-2.png  \n",
       "2  OIA-ODIR-TEST-OFFLINE-4.png  \n",
       "3  OIA-ODIR-TEST-OFFLINE-5.png  \n",
       "4  OIA-ODIR-TEST-OFFLINE-6.png  "
      ]
     },
     "execution_count": 4,
     "metadata": {},
     "output_type": "execute_result"
    }
   ],
   "source": [
    "fundus_subset.head()"
   ]
  },
  {
   "cell_type": "code",
   "execution_count": 5,
   "id": "6a863a1a-e707-4442-8fa7-9aaca3e45fbe",
   "metadata": {},
   "outputs": [
    {
     "name": "stdout",
     "output_type": "stream",
     "text": [
      "4767\n",
      "7549\n"
     ]
    }
   ],
   "source": [
    "# glaucoma fundus images\n",
    "glaucomaCount = len(fundus_subset[(fundus_subset['types'] == 1)])\n",
    "print(glaucomaCount)\n",
    "\n",
    "# healthy fundus images\n",
    "healthyCount = len(fundus_subset[(fundus_subset['types'] == 0)])\n",
    "print(healthyCount)\n",
    "\n",
    "# randomize data\n",
    "fundus_subset_random = fundus_subset.sample(frac=1, random_state=1)"
   ]
  },
  {
   "cell_type": "code",
   "execution_count": 6,
   "id": "39bc64e0-7fe4-4b5c-8426-f7a23398e89b",
   "metadata": {},
   "outputs": [],
   "source": [
    "# create df for each class based on randomized data\n",
    "healthy_subset = fundus_subset_random[fundus_subset_random['types'] == 0]\n",
    "glaucoma_subset = fundus_subset_random[fundus_subset_random['types'] == 1]"
   ]
  },
  {
   "cell_type": "code",
   "execution_count": 7,
   "id": "328577bb-988e-4963-b38d-52a00a8029a4",
   "metadata": {},
   "outputs": [],
   "source": [
    "testSize = 0.1 * len(glaucoma_subset)"
   ]
  },
  {
   "cell_type": "code",
   "execution_count": 8,
   "id": "00e54bdb-2ed0-4050-ac43-2cab5d4bf496",
   "metadata": {},
   "outputs": [
    {
     "data": {
      "text/html": [
       "<div>\n",
       "<style scoped>\n",
       "    .dataframe tbody tr th:only-of-type {\n",
       "        vertical-align: middle;\n",
       "    }\n",
       "\n",
       "    .dataframe tbody tr th {\n",
       "        vertical-align: top;\n",
       "    }\n",
       "\n",
       "    .dataframe thead th {\n",
       "        text-align: right;\n",
       "    }\n",
       "</style>\n",
       "<table border=\"1\" class=\"dataframe\">\n",
       "  <thead>\n",
       "    <tr style=\"text-align: right;\">\n",
       "      <th></th>\n",
       "      <th>fundus</th>\n",
       "      <th>types</th>\n",
       "    </tr>\n",
       "  </thead>\n",
       "  <tbody>\n",
       "    <tr>\n",
       "      <th>0</th>\n",
       "      <td>/full-fundus/EyePACS-Glaucoma-2749.png</td>\n",
       "      <td>1</td>\n",
       "    </tr>\n",
       "    <tr>\n",
       "      <th>1</th>\n",
       "      <td>/full-fundus/G1020-967.png</td>\n",
       "      <td>1</td>\n",
       "    </tr>\n",
       "    <tr>\n",
       "      <th>2</th>\n",
       "      <td>/full-fundus/sjchoi86-HRF-310.png</td>\n",
       "      <td>1</td>\n",
       "    </tr>\n",
       "    <tr>\n",
       "      <th>3</th>\n",
       "      <td>/full-fundus/EyePACS-Glaucoma-898.png</td>\n",
       "      <td>1</td>\n",
       "    </tr>\n",
       "    <tr>\n",
       "      <th>4</th>\n",
       "      <td>/full-fundus/EyePACS-Glaucoma-182.png</td>\n",
       "      <td>1</td>\n",
       "    </tr>\n",
       "    <tr>\n",
       "      <th>...</th>\n",
       "      <td>...</td>\n",
       "      <td>...</td>\n",
       "    </tr>\n",
       "    <tr>\n",
       "      <th>4762</th>\n",
       "      <td>/full-fundus/EyePACS-Glaucoma-218.png</td>\n",
       "      <td>1</td>\n",
       "    </tr>\n",
       "    <tr>\n",
       "      <th>4763</th>\n",
       "      <td>/full-fundus/EyePACS-Glaucoma-1168.png</td>\n",
       "      <td>1</td>\n",
       "    </tr>\n",
       "    <tr>\n",
       "      <th>4764</th>\n",
       "      <td>/full-fundus/EyePACS-Glaucoma-2764.png</td>\n",
       "      <td>1</td>\n",
       "    </tr>\n",
       "    <tr>\n",
       "      <th>4765</th>\n",
       "      <td>/full-fundus/G1020-607.png</td>\n",
       "      <td>1</td>\n",
       "    </tr>\n",
       "    <tr>\n",
       "      <th>4766</th>\n",
       "      <td>/full-fundus/EyePACS-Glaucoma-2730.png</td>\n",
       "      <td>1</td>\n",
       "    </tr>\n",
       "  </tbody>\n",
       "</table>\n",
       "<p>4767 rows × 2 columns</p>\n",
       "</div>"
      ],
      "text/plain": [
       "                                      fundus  types\n",
       "0     /full-fundus/EyePACS-Glaucoma-2749.png      1\n",
       "1                 /full-fundus/G1020-967.png      1\n",
       "2          /full-fundus/sjchoi86-HRF-310.png      1\n",
       "3      /full-fundus/EyePACS-Glaucoma-898.png      1\n",
       "4      /full-fundus/EyePACS-Glaucoma-182.png      1\n",
       "...                                      ...    ...\n",
       "4762   /full-fundus/EyePACS-Glaucoma-218.png      1\n",
       "4763  /full-fundus/EyePACS-Glaucoma-1168.png      1\n",
       "4764  /full-fundus/EyePACS-Glaucoma-2764.png      1\n",
       "4765              /full-fundus/G1020-607.png      1\n",
       "4766  /full-fundus/EyePACS-Glaucoma-2730.png      1\n",
       "\n",
       "[4767 rows x 2 columns]"
      ]
     },
     "execution_count": 8,
     "metadata": {},
     "output_type": "execute_result"
    }
   ],
   "source": [
    "glaucoma_subset[['fundus', 'types']].reset_index().drop(columns='index')"
   ]
  },
  {
   "cell_type": "code",
   "execution_count": 9,
   "id": "17983080-664d-419f-a4d8-d44317ee8273",
   "metadata": {},
   "outputs": [
    {
     "data": {
      "text/plain": [
       "1"
      ]
     },
     "execution_count": 9,
     "metadata": {},
     "output_type": "execute_result"
    }
   ],
   "source": [
    "glaucoma_subset.iloc[0]['types']"
   ]
  },
  {
   "cell_type": "code",
   "execution_count": 10,
   "id": "651df172-0bb4-4d62-8aaa-9acb7ec4a8ba",
   "metadata": {},
   "outputs": [
    {
     "name": "stderr",
     "output_type": "stream",
     "text": [
      "/usr/lib/python3/dist-packages/pkg_resources/__init__.py:116: PkgResourcesDeprecationWarning: 1.1build1 is an invalid version and will not be supported in a future release\n",
      "  warnings.warn(\n",
      "/usr/lib/python3/dist-packages/pkg_resources/__init__.py:116: PkgResourcesDeprecationWarning: 1.1build1 is an invalid version and will not be supported in a future release\n",
      "  warnings.warn(\n"
     ]
    }
   ],
   "source": [
    "import sys\n",
    "sys.path.append('./models')\n",
    "from dataset import GlaucomaLDM"
   ]
  },
  {
   "cell_type": "code",
   "execution_count": 11,
   "id": "29d3403e-0880-473f-8457-bd7757715301",
   "metadata": {},
   "outputs": [],
   "source": [
    "datamodule = GlaucomaLDM(batch_size=2)"
   ]
  },
  {
   "cell_type": "code",
   "execution_count": 12,
   "id": "3550bc07-6b23-447f-9dbc-31d3d383ab42",
   "metadata": {},
   "outputs": [],
   "source": [
    "datamodule.setup(\"fit\")"
   ]
  },
  {
   "cell_type": "code",
   "execution_count": 13,
   "id": "b7905565-3c91-49cf-8dd2-630ee03ebef8",
   "metadata": {},
   "outputs": [],
   "source": [
    "train_loader = datamodule.train_dataloader()\n",
    "val_loader = datamodule.val_dataloader()\n",
    "test_loader = datamodule.test_dataloader()"
   ]
  },
  {
   "cell_type": "code",
   "execution_count": 14,
   "id": "4c35f2dd-90f0-452b-973e-03c40b14e2ec",
   "metadata": {},
   "outputs": [
    {
     "data": {
      "text/plain": [
       "(476, 429)"
      ]
     },
     "execution_count": 14,
     "metadata": {},
     "output_type": "execute_result"
    }
   ],
   "source": [
    "len(test_loader), len(val_loader)"
   ]
  },
  {
   "cell_type": "code",
   "execution_count": 15,
   "id": "ad564830-1823-4f58-a4b7-e14cbbd67d32",
   "metadata": {},
   "outputs": [
    {
     "data": {
      "text/plain": [
       "3862"
      ]
     },
     "execution_count": 15,
     "metadata": {},
     "output_type": "execute_result"
    }
   ],
   "source": [
    "len(train_loader)"
   ]
  },
  {
   "cell_type": "code",
   "execution_count": 16,
   "id": "fe6fe452-69b2-4284-9739-7c8f49e08238",
   "metadata": {},
   "outputs": [
    {
     "name": "stderr",
     "output_type": "stream",
     "text": [
      "/usr/local/lib/python3.10/dist-packages/rasterio/__init__.py:304: NotGeoreferencedWarning: Dataset has no geotransform, gcps, or rpcs. The identity matrix will be returned.\n",
      "  dataset = DatasetReader(path, driver=driver, sharing=sharing, **kwargs)\n"
     ]
    },
    {
     "name": "stdout",
     "output_type": "stream",
     "text": [
      "(3, 512, 512)\n",
      "(512, 512, 3)\n",
      "torch.Size([3, 512, 512])\n",
      "(3, 512, 512)\n",
      "(512, 512, 3)\n",
      "torch.Size([3, 512, 512])\n"
     ]
    }
   ],
   "source": [
    "image, label = next(iter(train_loader))"
   ]
  },
  {
   "cell_type": "code",
   "execution_count": 17,
   "id": "510b1814-ec7e-4464-b927-01868643e547",
   "metadata": {},
   "outputs": [
    {
     "data": {
      "text/plain": [
       "torch.float32"
      ]
     },
     "execution_count": 17,
     "metadata": {},
     "output_type": "execute_result"
    }
   ],
   "source": [
    "image.shape\n",
    "image.dtype"
   ]
  },
  {
   "cell_type": "code",
   "execution_count": 18,
   "id": "6b6c4ec3-ec9f-4170-8e38-30365b43f3bc",
   "metadata": {},
   "outputs": [],
   "source": [
    "from models import U_Net"
   ]
  },
  {
   "cell_type": "code",
   "execution_count": 19,
   "id": "520ff4b8-2d12-46c8-b161-adf96c2a0f2e",
   "metadata": {},
   "outputs": [
    {
     "data": {
      "text/plain": [
       "torch.Size([2, 1])"
      ]
     },
     "execution_count": 19,
     "metadata": {},
     "output_type": "execute_result"
    }
   ],
   "source": [
    "model = U_Net()\n",
    "model(image).shape"
   ]
  },
  {
   "cell_type": "code",
   "execution_count": 20,
   "id": "5ea70d5e-a81a-45db-a4af-cf2fa0f88105",
   "metadata": {},
   "outputs": [
    {
     "data": {
      "text/plain": [
       "tensor([[0.5028],\n",
       "        [0.5151]], grad_fn=<SigmoidBackward0>)"
      ]
     },
     "execution_count": 20,
     "metadata": {},
     "output_type": "execute_result"
    }
   ],
   "source": [
    "sys.path.append('./models/Optic-Disk-Cup-Segmentation/src/segmentation code')\n",
    "from models import FCDenseModified\n",
    "model2 = FCDenseModified(in_channels=3)\n",
    "model2(image).shape\n",
    "model2(image)"
   ]
  },
  {
   "cell_type": "code",
   "execution_count": 21,
   "id": "22594de8-9ff0-4242-89ac-5e0b1bb662a6",
   "metadata": {},
   "outputs": [],
   "source": [
    "from models import EarlyId\n",
    "model3 = EarlyId(3)"
   ]
  },
  {
   "cell_type": "code",
   "execution_count": 22,
   "id": "6f5d1841-2eb5-431b-a776-17f0bda4c3bb",
   "metadata": {},
   "outputs": [
    {
     "data": {
      "text/plain": [
       "torch.Size([2, 1])"
      ]
     },
     "execution_count": 22,
     "metadata": {},
     "output_type": "execute_result"
    }
   ],
   "source": [
    "model3(image).shape"
   ]
  },
  {
   "cell_type": "code",
   "execution_count": 23,
   "id": "29c6f18b-bf1d-4667-b160-168d79739556",
   "metadata": {},
   "outputs": [],
   "source": [
    "from models import LightningModel\n",
    "lm = LightningModel(\"U-Net\", None)"
   ]
  },
  {
   "cell_type": "code",
   "execution_count": 24,
   "id": "5d6b499b-a1c9-4dbf-badb-fc1a72fb5ca4",
   "metadata": {},
   "outputs": [],
   "source": [
    "import torch\n",
    "loss = torch.nn.BCELoss()"
   ]
  },
  {
   "cell_type": "code",
   "execution_count": 25,
   "id": "cd7664a0-2c09-40a2-b62d-35b966b5759c",
   "metadata": {},
   "outputs": [],
   "source": [
    "out = model(image)"
   ]
  },
  {
   "cell_type": "code",
   "execution_count": 26,
   "id": "024eb034-1471-4a39-aa04-cb00ef09e20c",
   "metadata": {},
   "outputs": [
    {
     "data": {
      "text/plain": [
       "tensor(0.8190, grad_fn=<BinaryCrossEntropyBackward0>)"
      ]
     },
     "execution_count": 26,
     "metadata": {},
     "output_type": "execute_result"
    }
   ],
   "source": [
    "out, label\n",
    "label.resize_(out.size(dim=0), 1)\n",
    "loss(out, label.to(torch.float))"
   ]
  },
  {
   "cell_type": "code",
   "execution_count": 32,
   "id": "9e6ff55b-9e67-414b-9b50-f20252d2f875",
   "metadata": {},
   "outputs": [
    {
     "data": {
      "text/plain": [
       "tensor([[0.6327],\n",
       "        [0.6397]], grad_fn=<SigmoidBackward0>)"
      ]
     },
     "execution_count": 32,
     "metadata": {},
     "output_type": "execute_result"
    }
   ],
   "source": [
    "sigmoid = torch.nn.Sigmoid()\n",
    "sigmoid(out)"
   ]
  },
  {
   "cell_type": "code",
   "execution_count": 27,
   "id": "5797c7ec-8ee7-4333-9873-ca58f09d448f",
   "metadata": {},
   "outputs": [],
   "source": [
    "from torchmetrics.classification import BinaryAccuracy, BinaryPrecision, BinaryRecall, BinaryF1Score\n",
    "acc = BinaryAccuracy()"
   ]
  },
  {
   "cell_type": "code",
   "execution_count": 37,
   "id": "4ee573a4-9c46-4c7d-985f-81dc94d4058a",
   "metadata": {},
   "outputs": [
    {
     "data": {
      "text/plain": [
       "tensor(False)"
      ]
     },
     "execution_count": 37,
     "metadata": {},
     "output_type": "execute_result"
    }
   ],
   "source": [
    "out, label\n",
    "torch.any(label == 1)\n",
    "#acc(out, label)"
   ]
  }
 ],
 "metadata": {
  "kernelspec": {
   "display_name": "Python 3 (ipykernel)",
   "language": "python",
   "name": "python3"
  },
  "language_info": {
   "codemirror_mode": {
    "name": "ipython",
    "version": 3
   },
   "file_extension": ".py",
   "mimetype": "text/x-python",
   "name": "python",
   "nbconvert_exporter": "python",
   "pygments_lexer": "ipython3",
   "version": "3.10.12"
  }
 },
 "nbformat": 4,
 "nbformat_minor": 5
}
